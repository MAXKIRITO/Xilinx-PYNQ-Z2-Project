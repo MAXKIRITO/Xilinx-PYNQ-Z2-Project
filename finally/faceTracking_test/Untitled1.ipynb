{
 "cells": [
  {
   "cell_type": "code",
   "execution_count": 1,
   "metadata": {},
   "outputs": [
    {
     "data": {
      "application/javascript": [
       "\n",
       "try {\n",
       "require(['notebook/js/codecell'], function(codecell) {\n",
       "  codecell.CodeCell.options_default.highlight_modes[\n",
       "      'magic_text/x-csrc'] = {'reg':[/^%%microblaze/]};\n",
       "  Jupyter.notebook.events.one('kernel_ready.Kernel', function(){\n",
       "      Jupyter.notebook.get_cells().map(function(cell){\n",
       "          if (cell.cell_type == 'code'){ cell.auto_highlight(); } }) ;\n",
       "  });\n",
       "});\n",
       "} catch (e) {};\n"
      ]
     },
     "metadata": {},
     "output_type": "display_data"
    },
    {
     "data": {
      "application/javascript": [
       "\n",
       "try {\n",
       "require(['notebook/js/codecell'], function(codecell) {\n",
       "  codecell.CodeCell.options_default.highlight_modes[\n",
       "      'magic_text/x-csrc'] = {'reg':[/^%%pybind11/]};\n",
       "  Jupyter.notebook.events.one('kernel_ready.Kernel', function(){\n",
       "      Jupyter.notebook.get_cells().map(function(cell){\n",
       "          if (cell.cell_type == 'code'){ cell.auto_highlight(); } }) ;\n",
       "  });\n",
       "});\n",
       "} catch (e) {};\n"
      ]
     },
     "metadata": {},
     "output_type": "display_data"
    }
   ],
   "source": [
    "from pynq.overlays.base import BaseOverlay\n",
    "from pynq.lib.video import *\n",
    "base = BaseOverlay(\"base.bit\")"
   ]
  },
  {
   "cell_type": "code",
   "execution_count": 2,
   "metadata": {},
   "outputs": [
    {
     "ename": "ModuleNotFoundError",
     "evalue": "No module named 'mediapipe'",
     "output_type": "error",
     "traceback": [
      "\u001b[0;31m---------------------------------------------------------------------------\u001b[0m",
      "\u001b[0;31mModuleNotFoundError\u001b[0m                       Traceback (most recent call last)",
      "\u001b[0;32m<ipython-input-2-4240c55f5918>\u001b[0m in \u001b[0;36m<module>\u001b[0;34m()\u001b[0m\n\u001b[1;32m      1\u001b[0m \u001b[0;32mimport\u001b[0m \u001b[0mos\u001b[0m\u001b[0;34m\u001b[0m\u001b[0m\n\u001b[1;32m      2\u001b[0m \u001b[0;32mimport\u001b[0m \u001b[0mcv2\u001b[0m\u001b[0;34m\u001b[0m\u001b[0m\n\u001b[0;32m----> 3\u001b[0;31m \u001b[0;32mimport\u001b[0m \u001b[0mmediapipe\u001b[0m \u001b[0;32mas\u001b[0m \u001b[0mmp\u001b[0m\u001b[0;34m\u001b[0m\u001b[0m\n\u001b[0m\u001b[1;32m      4\u001b[0m \u001b[0;32mimport\u001b[0m \u001b[0mtime\u001b[0m\u001b[0;34m\u001b[0m\u001b[0m\n\u001b[1;32m      5\u001b[0m \u001b[0;32mimport\u001b[0m \u001b[0mnumpy\u001b[0m \u001b[0;32mas\u001b[0m \u001b[0mnp\u001b[0m\u001b[0;34m\u001b[0m\u001b[0m\n",
      "\u001b[0;31mModuleNotFoundError\u001b[0m: No module named 'mediapipe'"
     ]
    }
   ],
   "source": [
    "import os\n",
    "import cv2\n",
    "import mediapipe as mp\n",
    "import time\n",
    "import numpy as np\n",
    "import matplotlib.pyplot as plt\n"
   ]
  },
  {
   "cell_type": "code",
   "execution_count": 7,
   "metadata": {},
   "outputs": [
    {
     "ename": "ModuleNotFoundError",
     "evalue": "No module named 'mediapipe'",
     "output_type": "error",
     "traceback": [
      "\u001b[0;31m---------------------------------------------------------------------------\u001b[0m",
      "\u001b[0;31mModuleNotFoundError\u001b[0m                       Traceback (most recent call last)",
      "\u001b[0;32m<ipython-input-7-2d5bb645ed5a>\u001b[0m in \u001b[0;36m<module>\u001b[0;34m()\u001b[0m\n\u001b[1;32m      1\u001b[0m \u001b[0;32mimport\u001b[0m \u001b[0mos\u001b[0m\u001b[0;34m\u001b[0m\u001b[0m\n\u001b[1;32m      2\u001b[0m \u001b[0;32mimport\u001b[0m \u001b[0mcv2\u001b[0m\u001b[0;34m\u001b[0m\u001b[0m\n\u001b[0;32m----> 3\u001b[0;31m \u001b[0;32mimport\u001b[0m \u001b[0mmediapipe\u001b[0m \u001b[0;32mas\u001b[0m \u001b[0mmp\u001b[0m\u001b[0;34m\u001b[0m\u001b[0m\n\u001b[0m\u001b[1;32m      4\u001b[0m \u001b[0;32mimport\u001b[0m \u001b[0mtime\u001b[0m\u001b[0;34m\u001b[0m\u001b[0m\n\u001b[1;32m      5\u001b[0m \u001b[0;32mimport\u001b[0m \u001b[0mnumpy\u001b[0m \u001b[0;32mas\u001b[0m \u001b[0mnp\u001b[0m\u001b[0;34m\u001b[0m\u001b[0m\n",
      "\u001b[0;31mModuleNotFoundError\u001b[0m: No module named 'mediapipe'"
     ]
    }
   ],
   "source": [
    "class faceTracking:\n",
    "    def __init__(self):\n",
    "        self.mp_face_detection = mp.solutions.face_detection\n",
    "        self.mp_drawing = mp.solutions.drawing_utils\n",
    "\n",
    "        self.face_detection = self.mp_face_detection.FaceDetection(model_selection=1, min_detection_confidence=0.6)\n",
    "\n",
    "    def getCap(self,h=540,w=960,camera=0):\n",
    "        cap = cv3.VideoCapture(camera)\n",
    "        cap.set(cv3.CAP_PROP_FRAME_HEIGHT,h)\n",
    "        cap.set(cv3.CAP_PROP_FRAME_WIDTH,w)\n",
    "        return cap\n",
    "\n",
    "    def findFace(self,image,draw = True,channel_reverse=False):\n",
    "        if channel_reverse:\n",
    "            image = cv2.cvtColor(image, cv2.COLOR_BGR2RGB)\n",
    "        \n",
    "        self.results = self.face_detection.process(image)\n",
    "        \n",
    "        if channel_reverse:\n",
    "            image = cv2.cvtColor(image, cv2.COLOR_RGB2BGR)\n",
    "        \n",
    "        if self.results.detections and draw:\n",
    "            for detection in self.results.detections:\n",
    "                self.mp_drawing.draw_detection(image,detection)\n",
    "        return image\n",
    "\n",
    "    def getScale(self):\n",
    "        if self.results.detections:\n",
    "            Lms = []\n",
    "            for detection in self.results.detections:\n",
    "                location = detection.location_data\n",
    "                #get field\n",
    "                if location.HasField('relative_bounding_box'):\n",
    "                    relative_bounding_box = location.relative_bounding_box\n",
    "                    xmin = relative_bounding_box.xmin\n",
    "                    ymin = relative_bounding_box.ymin\n",
    "                    width = relative_bounding_box.width\n",
    "                    height = relative_bounding_box.height\n",
    "                    box = [xmin,ymin,width,height]\n",
    "                    Lms.append(box)\n",
    "                # get keypoint\n",
    "                for keypoint in location.relative_keypoints:\n",
    "                    Lms.append([keypoint.x,keypoint.y])\n",
    "            return Lms\n",
    "        return\n",
    "\n",
    "    def ScaleToPos(self,image,LmsScale,Precision = False):\n",
    "        h,w,c = image.shape\n",
    "        for i in LmsScale:\n",
    "            for j in range(len(i)):\n",
    "                if j%2 == 0:\n",
    "                    i[j] *= w\n",
    "                else:\n",
    "                    i[j] *= h\n",
    "                if not Precision:\n",
    "                    i[j] = int(i[j])\n",
    "                if i[j] <0:\n",
    "                    i[j] = 0\n",
    "        return LmsScale\n",
    "\n",
    "def main():\n",
    "    ft = faceTracking()\n",
    "    cap = ft.getCap(camera=0)\n",
    "    cTime = 0\n",
    "    pTime = 0\n",
    "    getFpsTime = 0\n",
    "    \n",
    "    while True:\n",
    "        sus,image = cap.read()\n",
    "        image = ft.findFace(image,channel_reverse=True)\n",
    "        LmsScale = ft.getScale()\n",
    "        \n",
    "        # face zoom in\n",
    "        if LmsScale:\n",
    "            LmsPos = ft.ScaleToPos(image,LmsScale)\n",
    "            if LmsPos:\n",
    "                box = LmsPos[0]\n",
    "                image = image[box[1]:box[1]+box[3],box[0]:box[0]+box[2]]\n",
    "                # resize\n",
    "                image = cv2.resize(image,None,fx = 2,fy = 2)\n",
    "\n",
    "        # get fps\n",
    "        cTime = time.time()\n",
    "        if time.time()-getFpsTime >= 1:\n",
    "            fps = int(1/(cTime-pTime))\n",
    "            getFpsTime = time.time()\n",
    "        pTime = cTime\n",
    "        \n",
    "        cv2.putText(image,f\"FPS:{str(fps)}\",(10,30),cv2.FONT_HERSHEY_PLAIN,1,(0,0,255))\n",
    "\n",
    "\n",
    "        cv2.imshow(\"image\",image)\n",
    "        if cv2.waitKey(1) & 0xFF == ord('q'):\n",
    "            break\n",
    "\n",
    "    cap.release()\n",
    "    cv2.destroyAllWindows()\n",
    "\n",
    "if __name__ == '__main__':\n",
    "    main()"
   ]
  }
 ],
 "metadata": {
  "kernelspec": {
   "display_name": "Python 3",
   "language": "python",
   "name": "python3"
  },
  "language_info": {
   "codemirror_mode": {
    "name": "ipython",
    "version": 3
   },
   "file_extension": ".py",
   "mimetype": "text/x-python",
   "name": "python",
   "nbconvert_exporter": "python",
   "pygments_lexer": "ipython3",
   "version": "3.6.5"
  }
 },
 "nbformat": 4,
 "nbformat_minor": 2
}
